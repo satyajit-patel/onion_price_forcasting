{
  "nbformat": 4,
  "nbformat_minor": 0,
  "metadata": {
    "colab": {
      "provenance": []
    },
    "kernelspec": {
      "name": "python3",
      "display_name": "Python 3"
    },
    "language_info": {
      "name": "python"
    }
  },
  "cells": [
    {
      "cell_type": "code",
      "execution_count": 1,
      "metadata": {
        "id": "-Rn0uTbEcMnZ"
      },
      "outputs": [],
      "source": [
        "import pandas as pd"
      ]
    },
    {
      "cell_type": "code",
      "source": [
        "# Load dataset with `low_memory=False` to handle mixed types warning\n",
        "df = pd.read_csv(\"onion_price_2012_to_2024.csv\", low_memory=False)\n",
        "\n",
        "# Drop rows with any null values\n",
        "df.dropna(inplace=True)\n",
        "\n",
        "# Drop unnecessary columns\n",
        "df = df.drop(columns=['Unnamed: 0', 'Unnamed: 0.1'], errors='ignore')  # Drop 'Unnamed' columns if present\n",
        "\n",
        "# Reset index after dropping rows\n",
        "df.reset_index(drop=True, inplace=True)\n",
        "\n",
        "# Display cleaned data info\n",
        "print(df.info())\n",
        "print(df.head())\n"
      ],
      "metadata": {
        "colab": {
          "base_uri": "https://localhost:8080/"
        },
        "id": "npfLYIFncbB4",
        "outputId": "aae1b209-05f8-437e-c118-8a7959fae88c"
      },
      "execution_count": 4,
      "outputs": [
        {
          "output_type": "stream",
          "name": "stdout",
          "text": [
            "<class 'pandas.core.frame.DataFrame'>\n",
            "RangeIndex: 1492576 entries, 0 to 1492575\n",
            "Data columns (total 10 columns):\n",
            " #   Column                     Non-Null Count    Dtype  \n",
            "---  ------                     --------------    -----  \n",
            " 0   Sl no.                     1492576 non-null  float64\n",
            " 1   District Name              1492576 non-null  object \n",
            " 2   Market Name                1492576 non-null  object \n",
            " 3   Commodity                  1492576 non-null  object \n",
            " 4   Variety                    1492576 non-null  object \n",
            " 5   Grade                      1492576 non-null  object \n",
            " 6   Min Price (Rs./Quintal)    1492576 non-null  float64\n",
            " 7   Max Price (Rs./Quintal)    1492576 non-null  float64\n",
            " 8   Modal Price (Rs./Quintal)  1492576 non-null  float64\n",
            " 9   Price Date                 1492576 non-null  object \n",
            "dtypes: float64(4), object(6)\n",
            "memory usage: 113.9+ MB\n",
            "None\n",
            "   Sl no. District Name Market Name Commodity Variety Grade  \\\n",
            "0     1.0       Fazilka      Abohar     Onion   Onion   FAQ   \n",
            "1     2.0       Fazilka      Abohar     Onion   Onion   FAQ   \n",
            "2     3.0       Fazilka      Abohar     Onion   Onion   FAQ   \n",
            "3     4.0       Fazilka      Abohar     Onion   Onion   FAQ   \n",
            "4     5.0       Fazilka      Abohar     Onion   Onion   FAQ   \n",
            "\n",
            "   Min Price (Rs./Quintal)  Max Price (Rs./Quintal)  \\\n",
            "0                    450.0                    650.0   \n",
            "1                    450.0                    650.0   \n",
            "2                    450.0                    650.0   \n",
            "3                    500.0                    800.0   \n",
            "4                    500.0                    800.0   \n",
            "\n",
            "   Modal Price (Rs./Quintal)   Price Date  \n",
            "0                      500.0  02 Jan 2012  \n",
            "1                      500.0  07 May 2012  \n",
            "2                      500.0  11 May 2012  \n",
            "3                      700.0  07 Aug 2012  \n",
            "4                      700.0  26 Jul 2012  \n"
          ]
        }
      ]
    },
    {
      "cell_type": "code",
      "source": [
        "df.isnull().sum()"
      ],
      "metadata": {
        "colab": {
          "base_uri": "https://localhost:8080/",
          "height": 397
        },
        "id": "OiQD-rR1dilA",
        "outputId": "59bf4d8c-d82d-4ede-be79-923c7a6d8ab3"
      },
      "execution_count": 5,
      "outputs": [
        {
          "output_type": "execute_result",
          "data": {
            "text/plain": [
              "Sl no.                       0\n",
              "District Name                0\n",
              "Market Name                  0\n",
              "Commodity                    0\n",
              "Variety                      0\n",
              "Grade                        0\n",
              "Min Price (Rs./Quintal)      0\n",
              "Max Price (Rs./Quintal)      0\n",
              "Modal Price (Rs./Quintal)    0\n",
              "Price Date                   0\n",
              "dtype: int64"
            ],
            "text/html": [
              "<div>\n",
              "<style scoped>\n",
              "    .dataframe tbody tr th:only-of-type {\n",
              "        vertical-align: middle;\n",
              "    }\n",
              "\n",
              "    .dataframe tbody tr th {\n",
              "        vertical-align: top;\n",
              "    }\n",
              "\n",
              "    .dataframe thead th {\n",
              "        text-align: right;\n",
              "    }\n",
              "</style>\n",
              "<table border=\"1\" class=\"dataframe\">\n",
              "  <thead>\n",
              "    <tr style=\"text-align: right;\">\n",
              "      <th></th>\n",
              "      <th>0</th>\n",
              "    </tr>\n",
              "  </thead>\n",
              "  <tbody>\n",
              "    <tr>\n",
              "      <th>Sl no.</th>\n",
              "      <td>0</td>\n",
              "    </tr>\n",
              "    <tr>\n",
              "      <th>District Name</th>\n",
              "      <td>0</td>\n",
              "    </tr>\n",
              "    <tr>\n",
              "      <th>Market Name</th>\n",
              "      <td>0</td>\n",
              "    </tr>\n",
              "    <tr>\n",
              "      <th>Commodity</th>\n",
              "      <td>0</td>\n",
              "    </tr>\n",
              "    <tr>\n",
              "      <th>Variety</th>\n",
              "      <td>0</td>\n",
              "    </tr>\n",
              "    <tr>\n",
              "      <th>Grade</th>\n",
              "      <td>0</td>\n",
              "    </tr>\n",
              "    <tr>\n",
              "      <th>Min Price (Rs./Quintal)</th>\n",
              "      <td>0</td>\n",
              "    </tr>\n",
              "    <tr>\n",
              "      <th>Max Price (Rs./Quintal)</th>\n",
              "      <td>0</td>\n",
              "    </tr>\n",
              "    <tr>\n",
              "      <th>Modal Price (Rs./Quintal)</th>\n",
              "      <td>0</td>\n",
              "    </tr>\n",
              "    <tr>\n",
              "      <th>Price Date</th>\n",
              "      <td>0</td>\n",
              "    </tr>\n",
              "  </tbody>\n",
              "</table>\n",
              "</div><br><label><b>dtype:</b> int64</label>"
            ]
          },
          "metadata": {},
          "execution_count": 5
        }
      ]
    },
    {
      "cell_type": "code",
      "source": [
        "df.to_csv('onion_price_2012_to_2024_cleaned.csv', index=False)"
      ],
      "metadata": {
        "id": "9uv1kicMdnJf"
      },
      "execution_count": 6,
      "outputs": []
    }
  ]
}